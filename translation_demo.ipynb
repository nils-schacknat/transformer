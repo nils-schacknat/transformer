{
 "cells": [
  {
   "cell_type": "code",
   "execution_count": 1,
   "id": "eb382263",
   "metadata": {},
   "outputs": [],
   "source": [
    "from translation_datapipe import create_translation_datapipe_train, create_translation_datapipe_val\n",
    "from util import load_config, load_tokenizers, get_tokenizer_params\n",
    "import os\n",
    "import time\n",
    "import torch\n",
    "from model import Transformer"
   ]
  },
  {
   "cell_type": "code",
   "execution_count": 2,
   "id": "0bff9f41",
   "metadata": {},
   "outputs": [
    {
     "name": "stdout",
     "output_type": "stream",
     "text": [
      "Using cpu\n",
      "\n"
     ]
    }
   ],
   "source": [
    "# Set the device\n",
    "device = \"cuda\" if torch.cuda.is_available() else \"cpu\"\n",
    "print(f\"Using {device}\")\n",
    "torch.set_default_device(device)\n",
    "\n",
    "# Load config\n",
    "config = load_config(\"config.yaml\")\n",
    "\n",
    "# Load the tokenizers\n",
    "source_tokenizer, target_tokenizer = load_tokenizers(**config[\"tokenizer\"])\n",
    "\n",
    "# Load the training and validation pipe\n",
    "train_pipe = create_translation_datapipe_train(\n",
    "    source_tokenizer=source_tokenizer,\n",
    "    target_tokenizer=target_tokenizer,\n",
    "    **config[\"datapipe_train\"]\n",
    ")\n",
    "val_pipe = create_translation_datapipe_val(\n",
    "    source_tokenizer=source_tokenizer,\n",
    "    target_tokenizer=target_tokenizer,\n",
    "    max_generation_length=config[\"max_generation_length\"],\n",
    "    **config[\"datapipe_val\"]\n",
    ")\n",
    "\n",
    "# Load the models state_dict\n",
    "model_state_dict = torch.load(\"/home/nils/Informatik/SS23/nlp/transformer/logs/run_final/checkpoint_100000\", map_location=torch.device('cpu'))[\"model_state_dict\"]\n",
    "\n",
    "# Create the model\n",
    "transformer = Transformer(\n",
    "    **get_tokenizer_params(source_tokenizer, target_tokenizer),\n",
    "    **config[\"transformer_params\"]\n",
    ")\n",
    "transformer.load_state_dict(model_state_dict)\n",
    "transformer.eval()\n",
    "print()"
   ]
  },
  {
   "cell_type": "code",
   "execution_count": 3,
   "id": "13cf707e",
   "metadata": {},
   "outputs": [],
   "source": [
    "def generate_translation(sentence):\n",
    "    sentence = sentence.lower()\n",
    "    print(f\"Tokenized sentence: {source_tokenizer.encode_as_pieces(sentence)}\")\n",
    "    token_tensor = torch.IntTensor(source_tokenizer.encode(sentence, add_bos=True, add_eos=True))\n",
    "    predictions = transformer.generate(token_tensor)\n",
    "    return target_tokenizer.decode(predictions.tolist())[0]"
   ]
  },
  {
   "cell_type": "code",
   "execution_count": 4,
   "id": "eec96a30",
   "metadata": {},
   "outputs": [
    {
     "name": "stdout",
     "output_type": "stream",
     "text": [
      "Tokenized sentence: ['▁deutschland', '▁ist', '▁meine', '▁heimat', '.']\n",
      "my country is germany.\n"
     ]
    }
   ],
   "source": [
    "sentence = \"Deutschland ist meine Heimat.\"\n",
    "translation = generate_translation(sentence)\n",
    "print(translation)"
   ]
  },
  {
   "cell_type": "code",
   "execution_count": 5,
   "id": "6c48045c",
   "metadata": {},
   "outputs": [
    {
     "name": "stdout",
     "output_type": "stream",
     "text": [
      "Tokenized sentence: ['▁wir', '▁müssen', '▁diese', '▁angelegenheit', '▁diskutieren', '.']\n",
      "we must discuss this issue.\n"
     ]
    }
   ],
   "source": [
    "sentence = \"Wir müssen diese angelegenheit diskutieren.\"\n",
    "translation = generate_translation(sentence)\n",
    "print(translation)"
   ]
  },
  {
   "cell_type": "code",
   "execution_count": 6,
   "id": "a1dc126a",
   "metadata": {},
   "outputs": [
    {
     "name": "stdout",
     "output_type": "stream",
     "text": [
      "Tokenized sentence: ['▁ich', '▁liebe', '▁k', 'uchen', '.']\n",
      "i will be talking about my own.\n"
     ]
    }
   ],
   "source": [
    "sentence = \"ich liebe kuchen.\"\n",
    "translation = generate_translation(sentence)\n",
    "print(translation)"
   ]
  },
  {
   "cell_type": "code",
   "execution_count": 7,
   "id": "543c8278",
   "metadata": {},
   "outputs": [
    {
     "name": "stdout",
     "output_type": "stream",
     "text": [
      "Tokenized sentence: ['▁ich', '▁finde', '▁den', '▁genuss', '▁von', '▁lebensmitteln', '▁zufrieden', 'stellend', '.']\n",
      "i believe that food is a good thing.\n"
     ]
    }
   ],
   "source": [
    "sentence = \"ich finde den genuss von lebensmitteln zufriedenstellend.\"\n",
    "translation = generate_translation(sentence)\n",
    "print(translation)"
   ]
  },
  {
   "cell_type": "code",
   "execution_count": 8,
   "id": "c1dc0038",
   "metadata": {},
   "outputs": [
    {
     "name": "stdout",
     "output_type": "stream",
     "text": [
      "Tokenized sentence: ['▁ich', '▁möchte', '▁hiermit', '▁verk', 'ünden', ',', '▁dass', '▁dieses', '▁projekt', '▁sehr', '▁zufrieden', 'stellend', '▁war', '!']\n",
      "i would like to say that i am very pleased with the project.\n"
     ]
    }
   ],
   "source": [
    "sentence = \"ich möchte hiermit verkünden, dass dieses projekt sehr zufriedenstellend war!\"\n",
    "translation = generate_translation(sentence)\n",
    "print(translation)"
   ]
  },
  {
   "cell_type": "code",
   "execution_count": 9,
   "id": "eed83843",
   "metadata": {},
   "outputs": [
    {
     "name": "stdout",
     "output_type": "stream",
     "text": [
      "Tokenized sentence: ['▁ich', '▁m', 'och', 'te', '▁dieses', '▁projekt', '▁sehr']\n",
      "i was a very successful commissioner.\n"
     ]
    }
   ],
   "source": [
    "sentence = \"ich mochte dieses projekt sehr\"\n",
    "translation = generate_translation(sentence)\n",
    "print(translation)"
   ]
  },
  {
   "cell_type": "code",
   "execution_count": null,
   "id": "be8bba07",
   "metadata": {},
   "outputs": [],
   "source": []
  }
 ],
 "metadata": {
  "kernelspec": {
   "display_name": "Python 3 (ipykernel)",
   "language": "python",
   "name": "python3"
  },
  "language_info": {
   "codemirror_mode": {
    "name": "ipython",
    "version": 3
   },
   "file_extension": ".py",
   "mimetype": "text/x-python",
   "name": "python",
   "nbconvert_exporter": "python",
   "pygments_lexer": "ipython3",
   "version": "3.9.12"
  }
 },
 "nbformat": 4,
 "nbformat_minor": 5
}
